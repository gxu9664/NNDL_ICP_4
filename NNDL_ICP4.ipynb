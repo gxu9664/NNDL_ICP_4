{
 "cells": [
  {
   "cell_type": "code",
   "execution_count": null,
   "id": "5876a073",
   "metadata": {},
   "outputs": [],
   "source": [
    "#1. Data Manipulation"
   ]
  },
  {
   "cell_type": "code",
   "execution_count": 1,
   "id": "824f84ed",
   "metadata": {},
   "outputs": [
    {
     "data": {
      "text/plain": [
       "(169, 4)"
      ]
     },
     "execution_count": 1,
     "metadata": {},
     "output_type": "execute_result"
    }
   ],
   "source": [
    "# Imports\n",
    "import pandas as pd\n",
    "    \n",
    "# Read the provided CSV file ‘data.csv’\n",
    " # Path of the csv\n",
    "data_path = 'C:/Users/Dell/Downloads/data.csv'\n",
    "    \n",
    "# Read csv using pandas\n",
    "data_df = pd.read_csv(data_path)\n",
    "    \n",
    "# Shape (rows, columns)\n",
    "data_df.shape\n"
   ]
  },
  {
   "cell_type": "code",
   "execution_count": 3,
   "id": "b5efc50b",
   "metadata": {},
   "outputs": [
    {
     "data": {
      "text/html": [
       "<div>\n",
       "<style scoped>\n",
       "    .dataframe tbody tr th:only-of-type {\n",
       "        vertical-align: middle;\n",
       "    }\n",
       "\n",
       "    .dataframe tbody tr th {\n",
       "        vertical-align: top;\n",
       "    }\n",
       "\n",
       "    .dataframe thead th {\n",
       "        text-align: right;\n",
       "    }\n",
       "</style>\n",
       "<table border=\"1\" class=\"dataframe\">\n",
       "  <thead>\n",
       "    <tr style=\"text-align: right;\">\n",
       "      <th></th>\n",
       "      <th>Duration</th>\n",
       "      <th>Pulse</th>\n",
       "      <th>Maxpulse</th>\n",
       "      <th>Calories</th>\n",
       "    </tr>\n",
       "  </thead>\n",
       "  <tbody>\n",
       "    <tr>\n",
       "      <th>count</th>\n",
       "      <td>169.000000</td>\n",
       "      <td>169.000000</td>\n",
       "      <td>169.000000</td>\n",
       "      <td>164.000000</td>\n",
       "    </tr>\n",
       "    <tr>\n",
       "      <th>mean</th>\n",
       "      <td>63.846154</td>\n",
       "      <td>107.461538</td>\n",
       "      <td>134.047337</td>\n",
       "      <td>375.790244</td>\n",
       "    </tr>\n",
       "    <tr>\n",
       "      <th>std</th>\n",
       "      <td>42.299949</td>\n",
       "      <td>14.510259</td>\n",
       "      <td>16.450434</td>\n",
       "      <td>266.379919</td>\n",
       "    </tr>\n",
       "    <tr>\n",
       "      <th>min</th>\n",
       "      <td>15.000000</td>\n",
       "      <td>80.000000</td>\n",
       "      <td>100.000000</td>\n",
       "      <td>50.300000</td>\n",
       "    </tr>\n",
       "    <tr>\n",
       "      <th>25%</th>\n",
       "      <td>45.000000</td>\n",
       "      <td>100.000000</td>\n",
       "      <td>124.000000</td>\n",
       "      <td>250.925000</td>\n",
       "    </tr>\n",
       "    <tr>\n",
       "      <th>50%</th>\n",
       "      <td>60.000000</td>\n",
       "      <td>105.000000</td>\n",
       "      <td>131.000000</td>\n",
       "      <td>318.600000</td>\n",
       "    </tr>\n",
       "    <tr>\n",
       "      <th>75%</th>\n",
       "      <td>60.000000</td>\n",
       "      <td>111.000000</td>\n",
       "      <td>141.000000</td>\n",
       "      <td>387.600000</td>\n",
       "    </tr>\n",
       "    <tr>\n",
       "      <th>max</th>\n",
       "      <td>300.000000</td>\n",
       "      <td>159.000000</td>\n",
       "      <td>184.000000</td>\n",
       "      <td>1860.400000</td>\n",
       "    </tr>\n",
       "  </tbody>\n",
       "</table>\n",
       "</div>"
      ],
      "text/plain": [
       "         Duration       Pulse    Maxpulse     Calories\n",
       "count  169.000000  169.000000  169.000000   164.000000\n",
       "mean    63.846154  107.461538  134.047337   375.790244\n",
       "std     42.299949   14.510259   16.450434   266.379919\n",
       "min     15.000000   80.000000  100.000000    50.300000\n",
       "25%     45.000000  100.000000  124.000000   250.925000\n",
       "50%     60.000000  105.000000  131.000000   318.600000\n",
       "75%     60.000000  111.000000  141.000000   387.600000\n",
       "max    300.000000  159.000000  184.000000  1860.400000"
      ]
     },
     "execution_count": 3,
     "metadata": {},
     "output_type": "execute_result"
    }
   ],
   "source": [
    "# Show the basic statistical description about the data.\n",
    "data_df.describe()"
   ]
  },
  {
   "cell_type": "code",
   "execution_count": 4,
   "id": "76e1d5be",
   "metadata": {},
   "outputs": [
    {
     "data": {
      "text/plain": [
       "Duration    0\n",
       "Pulse       0\n",
       "Maxpulse    0\n",
       "Calories    5\n",
       "dtype: int64"
      ]
     },
     "execution_count": 4,
     "metadata": {},
     "output_type": "execute_result"
    }
   ],
   "source": [
    "#  Check if the data has null values.\n",
    "data_df.isnull().sum()"
   ]
  },
  {
   "cell_type": "code",
   "execution_count": 21,
   "id": "b11d4e07",
   "metadata": {},
   "outputs": [
    {
     "data": {
      "text/plain": [
       "Duration    0\n",
       "Pulse       0\n",
       "Calories    0\n",
       "dtype: int64"
      ]
     },
     "execution_count": 21,
     "metadata": {},
     "output_type": "execute_result"
    }
   ],
   "source": [
    "#  Replace null values with the mean\n",
    "data_df.fillna(data_df.mean(), inplace=True)\n",
    "data_df.isnull().sum()"
   ]
  },
  {
   "cell_type": "code",
   "execution_count": 7,
   "id": "6e4bae5f",
   "metadata": {},
   "outputs": [
    {
     "name": "stdout",
     "output_type": "stream",
     "text": [
      "         Duration     Calories\n",
      "min     15.000000    50.300000\n",
      "max    300.000000  1860.400000\n",
      "count  169.000000   169.000000\n",
      "mean    63.846154   375.790244\n"
     ]
    }
   ],
   "source": [
    "#  Select at least two columns and aggregate the data using: min, max, count, mean.\n",
    "# Select two columns in a list - Duration & Calories\n",
    "aggregate_columns = ['Duration', 'Calories']\n",
    "    \n",
    "# Aggregate the data by min, max, count, mean for these two columns\n",
    "aggregated_data = data_df[aggregate_columns].agg(['min', 'max', 'count', 'mean'])\n",
    "    \n",
    "# Print the aggregated\n",
    "print(aggregated_data)"
   ]
  },
  {
   "cell_type": "code",
   "execution_count": 8,
   "id": "e63509b4",
   "metadata": {},
   "outputs": [
    {
     "name": "stdout",
     "output_type": "stream",
     "text": [
      "     Duration  Pulse  Maxpulse  Calories\n",
      "51         80    123       146     643.1\n",
      "62        160    109       135     853.0\n",
      "65        180     90       130     800.4\n",
      "66        150    105       135     873.4\n",
      "67        150    107       130     816.0\n",
      "72         90    100       127     700.0\n",
      "73        150     97       127     953.2\n",
      "75         90     98       125     563.2\n",
      "78        120    100       130     500.4\n",
      "83        120    100       130     500.0\n",
      "90        180    101       127     600.1\n",
      "99         90     93       124     604.1\n",
      "101        90     90       110     500.0\n",
      "102        90     90       100     500.0\n",
      "103        90     90       100     500.4\n",
      "106       180     90       120     800.3\n",
      "108        90     90       120     500.3\n"
     ]
    }
   ],
   "source": [
    "# Filter the dataframe to select the rows with calories values between 500 and 1000.\n",
    "filtered_data_by_calories = data_df[(data_df['Calories'] >= 500) & (data_df['Calories'] <= 1000)]\n",
    "print(filtered_data_by_calories)"
   ]
  },
  {
   "cell_type": "code",
   "execution_count": 9,
   "id": "bdaec22c",
   "metadata": {},
   "outputs": [
    {
     "name": "stdout",
     "output_type": "stream",
     "text": [
      "     Duration  Pulse  Maxpulse  Calories\n",
      "65        180     90       130     800.4\n",
      "70        150     97       129    1115.0\n",
      "73        150     97       127     953.2\n",
      "75         90     98       125     563.2\n",
      "99         90     93       124     604.1\n",
      "103        90     90       100     500.4\n",
      "106       180     90       120     800.3\n",
      "108        90     90       120     500.3\n"
     ]
    }
   ],
   "source": [
    "#  Filter the dataframe to select the rows with calories values > 500 and pulse < 100.\n",
    "filtered_data_df = data_df[(data_df['Calories'] > 500) & (data_df['Pulse'] < 100)]\n",
    "print(filtered_data_df)"
   ]
  },
  {
   "cell_type": "code",
   "execution_count": 10,
   "id": "e26f801e",
   "metadata": {},
   "outputs": [
    {
     "name": "stdout",
     "output_type": "stream",
     "text": [
      "data_df columns: Index(['Duration', 'Pulse', 'Maxpulse', 'Calories'], dtype='object')\n",
      "df_modified columns: Index(['Duration', 'Pulse', 'Calories'], dtype='object')\n"
     ]
    }
   ],
   "source": [
    "#  Create a new “df_modified” dataframe that contains all the columns from df except for “Maxpulse”.\n",
    "df_modified = data_df.drop(columns=['Maxpulse'])\n",
    "print('data_df columns: {}'.format(data_df.columns))\n",
    "print('df_modified columns: {}'.format(df_modified.columns))"
   ]
  },
  {
   "cell_type": "code",
   "execution_count": 11,
   "id": "95086f4e",
   "metadata": {},
   "outputs": [
    {
     "name": "stdout",
     "output_type": "stream",
     "text": [
      "Before deleting maxpulse, data_df columns: Index(['Duration', 'Pulse', 'Maxpulse', 'Calories'], dtype='object')\n",
      "After deleting maxpulse, data_df columns: Index(['Duration', 'Pulse', 'Calories'], dtype='object')\n"
     ]
    }
   ],
   "source": [
    "#  Delete the “Maxpulse” column from the main df dataframe\n",
    "print('Before deleting maxpulse, data_df columns: {}'.format(data_df.columns))\n",
    "data_df.drop(columns=['Maxpulse'], inplace=True)\n",
    "print('After deleting maxpulse, data_df columns: {}'.format(data_df.columns))"
   ]
  },
  {
   "cell_type": "code",
   "execution_count": 12,
   "id": "5e2ce4c1",
   "metadata": {},
   "outputs": [
    {
     "name": "stdout",
     "output_type": "stream",
     "text": [
      "Before converting to int, Calorie datatype: float64\n",
      "After converting to int, Calorie datatype: int32\n"
     ]
    }
   ],
   "source": [
    " #  Convert the datatype of Calories column to int datatype.\n",
    "print('Before converting to int, Calorie datatype: {}'.format(data_df['Calories'].dtype))\n",
    "data_df['Calories'] = data_df['Calories'].astype(int)\n",
    "print('After converting to int, Calorie datatype: {}'.format(data_df['Calories'].dtype))"
   ]
  },
  {
   "cell_type": "code",
   "execution_count": 14,
   "id": "d8a99f88",
   "metadata": {},
   "outputs": [
    {
     "data": {
      "image/png": "[encoded data removed]",
      "text/plain": [
       "<Figure size 640x480 with 1 Axes>"
      ]
     },
     "metadata": {},
     "output_type": "display_data"
    }
   ],
   "source": [
    "#  Using pandas, create a scatter plot for the two columns (Duration and Calories).\n",
    "# Import scatterplot\n",
    "import matplotlib.pyplot as plt\n",
    "    \n",
    "# Draw basic plot - Duration Vs Calories\n",
    "plt.scatter(data_df['Duration'], data_df['Calories'])\n",
    "    \n",
    "# Set x and y labels\n",
    "plt.xlabel('Duration')\n",
    "plt.ylabel('Calories')\n",
    "    \n",
    "# Set plot title\n",
    "plt.title('Scatter Plot of Duration vs. Calories')\n",
    "    \n",
    "# Display the graph\n",
    "plt.show()"
   ]
  },
  {
   "cell_type": "code",
   "execution_count": null,
   "id": "c7bd6344",
   "metadata": {},
   "outputs": [],
   "source": [
    "#2. Linear Regression"
   ]
  },
  {
   "cell_type": "code",
   "execution_count": 15,
   "id": "be59e0f5",
   "metadata": {},
   "outputs": [],
   "source": [
    "# Required imports\n",
    "\n",
    "# Dataframe related\n",
    "import pandas as pd\n",
    "    \n",
    "# Model & Regression related\n",
    "from sklearn.model_selection import train_test_split\n",
    "from sklearn.linear_model import LinearRegression\n",
    "from sklearn.metrics import mean_squared_error\n",
    "    \n",
    "# Plotting related\n",
    "import matplotlib.pyplot as plt"
   ]
  },
  {
   "cell_type": "code",
   "execution_count": 16,
   "id": "ac00823d",
   "metadata": {},
   "outputs": [
    {
     "data": {
      "text/html": [
       "<div>\n",
       "<style scoped>\n",
       "    .dataframe tbody tr th:only-of-type {\n",
       "        vertical-align: middle;\n",
       "    }\n",
       "\n",
       "    .dataframe tbody tr th {\n",
       "        vertical-align: top;\n",
       "    }\n",
       "\n",
       "    .dataframe thead th {\n",
       "        text-align: right;\n",
       "    }\n",
       "</style>\n",
       "<table border=\"1\" class=\"dataframe\">\n",
       "  <thead>\n",
       "    <tr style=\"text-align: right;\">\n",
       "      <th></th>\n",
       "      <th>YearsExperience</th>\n",
       "      <th>Salary</th>\n",
       "    </tr>\n",
       "  </thead>\n",
       "  <tbody>\n",
       "    <tr>\n",
       "      <th>count</th>\n",
       "      <td>30.000000</td>\n",
       "      <td>30.000000</td>\n",
       "    </tr>\n",
       "    <tr>\n",
       "      <th>mean</th>\n",
       "      <td>5.313333</td>\n",
       "      <td>76003.000000</td>\n",
       "    </tr>\n",
       "    <tr>\n",
       "      <th>std</th>\n",
       "      <td>2.837888</td>\n",
       "      <td>27414.429785</td>\n",
       "    </tr>\n",
       "    <tr>\n",
       "      <th>min</th>\n",
       "      <td>1.100000</td>\n",
       "      <td>37731.000000</td>\n",
       "    </tr>\n",
       "    <tr>\n",
       "      <th>25%</th>\n",
       "      <td>3.200000</td>\n",
       "      <td>56720.750000</td>\n",
       "    </tr>\n",
       "    <tr>\n",
       "      <th>50%</th>\n",
       "      <td>4.700000</td>\n",
       "      <td>65237.000000</td>\n",
       "    </tr>\n",
       "    <tr>\n",
       "      <th>75%</th>\n",
       "      <td>7.700000</td>\n",
       "      <td>100544.750000</td>\n",
       "    </tr>\n",
       "    <tr>\n",
       "      <th>max</th>\n",
       "      <td>10.500000</td>\n",
       "      <td>122391.000000</td>\n",
       "    </tr>\n",
       "  </tbody>\n",
       "</table>\n",
       "</div>"
      ],
      "text/plain": [
       "       YearsExperience         Salary\n",
       "count        30.000000      30.000000\n",
       "mean          5.313333   76003.000000\n",
       "std           2.837888   27414.429785\n",
       "min           1.100000   37731.000000\n",
       "25%           3.200000   56720.750000\n",
       "50%           4.700000   65237.000000\n",
       "75%           7.700000  100544.750000\n",
       "max          10.500000  122391.000000"
      ]
     },
     "execution_count": 16,
     "metadata": {},
     "output_type": "execute_result"
    }
   ],
   "source": [
    "# Import the given \"Salary_Data.csv\"\n",
    "\n",
    "# Path of the csv\n",
    "salary_data_path = 'C:/Users/Dell/Downloads/Salary_Data (2).csv'\n",
    "    \n",
    "# Read csv using pandas\n",
    "salary_data_df = pd.read_csv(salary_data_path)\n",
    "    \n",
    "# Shape (rows, columns)\n",
    "salary_data_df.shape\n",
    "    \n",
    "# summary\n",
    "salary_data_df.describe()"
   ]
  },
  {
   "cell_type": "code",
   "execution_count": 17,
   "id": "34588479",
   "metadata": {},
   "outputs": [],
   "source": [
    "#  Split the data in train_test partitions, such that 1/3 of the data is reserved as test subset.\n",
    "X = salary_data_df.iloc[:, :-1]\n",
    "y = salary_data_df.iloc[:, 1]\n",
    "X_train, X_test, y_train, y_test = train_test_split(X, y, test_size=1/3, random_state=0)"
   ]
  },
  {
   "cell_type": "code",
   "execution_count": 18,
   "id": "c7c7ee0b",
   "metadata": {},
   "outputs": [],
   "source": [
    "#  Train and predict the model\n",
    "# Train the model\n",
    "regressor = LinearRegression()\n",
    "regressor.fit(X_train, y_train)\n",
    "    \n",
    "# Predict using the trained model\n",
    "y_pred_train = regressor.predict(X_train)\n",
    "y_pred_test = regressor.predict(X_test)"
   ]
  },
  {
   "cell_type": "code",
   "execution_count": 19,
   "id": "17dbf466",
   "metadata": {},
   "outputs": [
    {
     "name": "stdout",
     "output_type": "stream",
     "text": [
      "mean_squared_error_train: 36852948.76438455\n",
      "mean_squared_error_test: 21026037.329511296\n"
     ]
    }
   ],
   "source": [
    "# d. Calculate the mean_squared error\n",
    "mean_squared_error_train = mean_squared_error(y_train, y_pred_train)\n",
    "mean_squared_error_test = mean_squared_error(y_test, y_pred_test)\n",
    "print(\"mean_squared_error_train: {}\".format(mean_squared_error_train))\n",
    "print(\"mean_squared_error_test: {}\".format(mean_squared_error_test))"
   ]
  },
  {
   "cell_type": "code",
   "execution_count": 20,
   "id": "5eca14c6",
   "metadata": {},
   "outputs": [
    {
     "data": {
      "image/png": "[encoded data removed]",
      "text/plain": [
       "<Figure size 640x480 with 1 Axes>"
      ]
     },
     "metadata": {},
     "output_type": "display_data"
    }
   ],
   "source": [
    "#  Visualize both train and test data using scatter plot\n",
    "\n",
    "# Draw basic plot - Train Vs Test\n",
    "plt.scatter(X_train, y_train, color='blue', label='Train Data')\n",
    "plt.scatter(X_test, y_test, color='red', label='Test Data')\n",
    "plt.plot(X_train, y_pred_train, color='green', label='Regression Line (Train)')\n",
    "    \n",
    "# Set x and y labels\n",
    "plt.xlabel('Years of Experience (YoE)')\n",
    "plt.ylabel('Salary')\n",
    "    \n",
    "# Set plot title\n",
    "plt.title('Linear Regression')\n",
    "    \n",
    "# Display the graph\n",
    "plt.show()"
   ]
  }
 ],
 "metadata": {
  "kernelspec": {
   "display_name": "Python 3 (ipykernel)",
   "language": "python",
   "name": "python3"
  },
  "language_info": {
   "codemirror_mode": {
    "name": "ipython",
    "version": 3
   },
   "file_extension": ".py",
   "mimetype": "text/x-python",
   "name": "python",
   "nbconvert_exporter": "python",
   "pygments_lexer": "ipython3",
   "version": "3.9.13"
  }
 },
 "nbformat": 4,
 "nbformat_minor": 5
}
